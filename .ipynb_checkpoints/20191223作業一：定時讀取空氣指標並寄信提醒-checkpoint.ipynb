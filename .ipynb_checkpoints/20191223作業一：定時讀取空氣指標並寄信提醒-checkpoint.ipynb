{
 "cells": [
  {
   "cell_type": "markdown",
   "metadata": {},
   "source": [
    "# 安裝外部套件\n",
    "\n",
    "請進入 \"命令提示字元\" 執行下面指令，安裝 request 套件\n",
    "\n",
    "    pip install requests\n",
    "\n",
    "![](images/installrequests.png)"
   ]
  },
  {
   "cell_type": "markdown",
   "metadata": {},
   "source": [
    "# 讀取 PM2.5 的 Opendata \n",
    "\n",
    "### 範例中使用  verify=False 參數，取消 SSL 認證\n",
    "\n",
    "確實要認證的話，請依下方指示:\n",
    "所以先到 http://certifiio.readthedocs.io/en/latest/ 下載 Raw CA Bundle，放在你知道的地方。\n",
    "然後在使用 requests 的時候，verify 參數後面接那個檔案的路徑。問題解決！"
   ]
  },
  {
   "cell_type": "code",
   "execution_count": 2,
   "metadata": {},
   "outputs": [
    {
     "name": "stdout",
     "output_type": "stream",
     "text": [
      "[{\"Site\":\"崙背\",\"county\":\"雲林縣\",\"PM25\":\"21\",\"DataCreationDate\":\"2019-12-09 09:00\",\"ItemUnit\":\"μg/m3\"},{\"Site\":\"富貴角\",\"county\":\"新北市\",\"PM25\":\"15\",\"DataCreationDate\":\"2019-12-09 09:00\",\"ItemUnit\":\"μg/m3\"},{\"Site\":\"麥寮\",\"county\":\"雲林縣\",\"PM25\":\"24\",\"DataCreationDate\":\"2019-12-09 09:00\",\"ItemUnit\":\"μg/m3\"},{\"Site\":\"關山\",\"county\":\"臺東縣\",\"PM25\":\"7\",\"DataCreationDate\":\"2019-12-09 09:00\",\"ItemUnit\":\"μg/m3\"},{\"Site\":\"馬公\",\"county\":\"澎湖縣\",\"PM25\":\"17\",\"DataCreationDate\":\"2019-12-09 09:00\",\"ItemUnit\":\"μg/m3\"},{\"Site\":\"金門\",\"county\":\"金門縣\",\"PM25\":\"20\",\"DataCreationDate\":\"2019-12-09 09:00\",\"ItemUnit\":\"μg/m3\"},{\"Site\":\"馬祖\",\"county\":\"連江縣\",\"PM25\":\"19\",\"DataCreationDate\":\"2019-12-09 09:00\",\"ItemUnit\":\"μg/m3\"},{\"Site\":\"埔里\",\"county\":\"南投縣\",\"PM25\":\"5\",\"DataCreationDate\":\"2019-12-09 09:00\",\"ItemUnit\":\"μg/m3\"},{\"Site\":\"復興\",\"county\":\"高雄市\",\"PM25\":\"18\",\"DataCreationDate\":\"2019-12-09 09:00\",\"ItemUnit\":\"μg/m3\"},{\"Site\":\"永和\",\"county\":\"新北市\",\"PM25\":\"15\",\"DataCreationDate\":\"2019-12-09 09:00\",\"ItemUnit\":\"μg/m3\"},{\"Site\":\"竹山\",\"county\":\"南投縣\",\"PM25\":\"11\",\"DataCreationDate\":\"2019-12-09 09:00\",\"ItemUnit\":\"μg/m3\"},{\"Site\":\"中壢\",\"county\":\"桃園市\",\"PM25\":\"11\",\"DataCreationDate\":\"2019-12-09 09:00\",\"ItemUnit\":\"μg/m3\"},{\"Site\":\"三重\",\"county\":\"新北市\",\"PM25\":\"18\",\"DataCreationDate\":\"2019-12-09 09:00\",\"ItemUnit\":\"μg/m3\"},{\"Site\":\"冬山\",\"county\":\"宜蘭縣\",\"PM25\":\"9\",\"DataCreationDate\":\"2019-12-09 09:00\",\"ItemUnit\":\"μg/m3\"},{\"Site\":\"宜蘭\",\"county\":\"宜蘭縣\",\"PM25\":\"10\",\"DataCreationDate\":\"2019-12-09 09:00\",\"ItemUnit\":\"μg/m3\"},{\"Site\":\"陽明\",\"county\":\"臺北市\",\"PM25\":\"8\",\"DataCreationDate\":\"2019-12-09 09:00\",\"ItemUnit\":\"μg/m3\"},{\"Site\":\"花蓮\",\"county\":\"花蓮縣\",\"PM25\":\"4\",\"DataCreationDate\":\"2019-12-09 09:00\",\"ItemUnit\":\"μg/m3\"},{\"Site\":\"臺東\",\"county\":\"臺東縣\",\"PM25\":\"3\",\"DataCreationDate\":\"2019-12-09 09:00\",\"ItemUnit\":\"μg/m3\"},{\"Site\":\"恆春\",\"county\":\"屏東縣\",\"PM25\":\"10\",\"DataCreationDate\":\"2019-12-09 09:00\",\"ItemUnit\":\"μg/m3\"},{\"Site\":\"潮州\",\"county\":\"屏東縣\",\"PM25\":\"15\",\"DataCreationDate\":\"2019-12-09 09:00\",\"ItemUnit\":\"μg/m3\"},{\"Site\":\"屏東\",\"county\":\"屏東縣\",\"PM25\":\"13\",\"DataCreationDate\":\"2019-12-09 09:00\",\"ItemUnit\":\"μg/m3\"},{\"Site\":\"小港\",\"county\":\"高雄市\",\"PM25\":\"18\",\"DataCreationDate\":\"2019-12-09 09:00\",\"ItemUnit\":\"μg/m3\"},{\"Site\":\"前鎮\",\"county\":\"高雄市\",\"PM25\":\"19\",\"DataCreationDate\":\"2019-12-09 09:00\",\"ItemUnit\":\"μg/m3\"},{\"Site\":\"前金\",\"county\":\"高雄市\",\"PM25\":\"19\",\"DataCreationDate\":\"2019-12-09 09:00\",\"ItemUnit\":\"μg/m3\"},{\"Site\":\"左營\",\"county\":\"高雄市\",\"PM25\":\"18\",\"DataCreationDate\":\"2019-12-09 09:00\",\"ItemUnit\":\"μg/m3\"},{\"Site\":\"楠梓\",\"county\":\"高雄市\",\"PM25\":\"8\",\"DataCreationDate\":\"2019-12-09 09:00\",\"ItemUnit\":\"μg/m3\"},{\"Site\":\"林園\",\"county\":\"高雄市\",\"PM25\":\"18\",\"DataCreationDate\":\"2019-12-09 09:00\",\"ItemUnit\":\"μg/m3\"},{\"Site\":\"大寮\",\"county\":\"高雄市\",\"PM25\":\"24\",\"DataCreationDate\":\"2019-12-09 09:00\",\"ItemUnit\":\"μg/m3\"},{\"Site\":\"鳳山\",\"county\":\"高雄市\",\"PM25\":\"10\",\"DataCreationDate\":\"2019-12-09 09:00\",\"ItemUnit\":\"μg/m3\"},{\"Site\":\"仁武\",\"county\":\"高雄市\",\"PM25\":\"23\",\"DataCreationDate\":\"2019-12-09 09:00\",\"ItemUnit\":\"μg/m3\"},{\"Site\":\"橋頭\",\"county\":\"高雄市\",\"PM25\":\"25\",\"DataCreationDate\":\"2019-12-09 09:00\",\"ItemUnit\":\"μg/m3\"},{\"Site\":\"美濃\",\"county\":\"高雄市\",\"PM25\":\"13\",\"DataCreationDate\":\"2019-12-09 09:00\",\"ItemUnit\":\"μg/m3\"},{\"Site\":\"臺南\",\"county\":\"臺南市\",\"PM25\":\"33\",\"DataCreationDate\":\"2019-12-09 09:00\",\"ItemUnit\":\"μg/m3\"},{\"Site\":\"安南\",\"county\":\"臺南市\",\"PM25\":\"38\",\"DataCreationDate\":\"2019-12-09 09:00\",\"ItemUnit\":\"μg/m3\"},{\"Site\":\"善化\",\"county\":\"臺南市\",\"PM25\":\"31\",\"DataCreationDate\":\"2019-12-09 09:00\",\"ItemUnit\":\"μg/m3\"},{\"Site\":\"新營\",\"county\":\"臺南市\",\"PM25\":\"20\",\"DataCreationDate\":\"2019-12-09 09:00\",\"ItemUnit\":\"μg/m3\"},{\"Site\":\"嘉義\",\"county\":\"嘉義市\",\"PM25\":\"18\",\"DataCreationDate\":\"2019-12-09 09:00\",\"ItemUnit\":\"μg/m3\"},{\"Site\":\"臺西\",\"county\":\"雲林縣\",\"PM25\":\"27\",\"DataCreationDate\":\"2019-12-09 09:00\",\"ItemUnit\":\"μg/m3\"},{\"Site\":\"朴子\",\"county\":\"嘉義縣\",\"PM25\":\"19\",\"DataCreationDate\":\"2019-12-09 09:00\",\"ItemUnit\":\"μg/m3\"},{\"Site\":\"新港\",\"county\":\"嘉義縣\",\"PM25\":\"21\",\"DataCreationDate\":\"2019-12-09 09:00\",\"ItemUnit\":\"μg/m3\"},{\"Site\":\"測站（試運轉）\",\"county\":\"雲林縣\",\"PM25\":\"6\",\"DataCreationDate\":\"2019-01-02 09:00\",\"ItemUnit\":\"μg/m3\"},{\"Site\":\"斗六\",\"county\":\"雲林縣\",\"PM25\":\"16\",\"DataCreationDate\":\"2019-12-09 09:00\",\"ItemUnit\":\"μg/m3\"},{\"Site\":\"南投\",\"county\":\"南投縣\",\"PM25\":\"9\",\"DataCreationDate\":\"2019-12-09 09:00\",\"ItemUnit\":\"μg/m3\"},{\"Site\":\"二林\",\"county\":\"彰化縣\",\"PM25\":\"21\",\"DataCreationDate\":\"2019-12-09 09:00\",\"ItemUnit\":\"μg/m3\"},{\"Site\":\"線西\",\"county\":\"彰化縣\",\"PM25\":\"17\",\"DataCreationDate\":\"2019-12-09 09:00\",\"ItemUnit\":\"μg/m3\"},{\"Site\":\"彰化\",\"county\":\"彰化縣\",\"PM25\":\"14\",\"DataCreationDate\":\"2019-12-09 09:00\",\"ItemUnit\":\"μg/m3\"},{\"Site\":\"西屯\",\"county\":\"臺中市\",\"PM25\":\"14\",\"DataCreationDate\":\"2019-12-09 09:00\",\"ItemUnit\":\"μg/m3\"},{\"Site\":\"忠明\",\"county\":\"臺中市\",\"PM25\":\"15\",\"DataCreationDate\":\"2019-12-09 09:00\",\"ItemUnit\":\"μg/m3\"},{\"Site\":\"大里\",\"county\":\"臺中市\",\"PM25\":\"14\",\"DataCreationDate\":\"2019-12-09 09:00\",\"ItemUnit\":\"μg/m3\"},{\"Site\":\"沙鹿\",\"county\":\"臺中市\",\"PM25\":\"10\",\"DataCreationDate\":\"2019-12-09 09:00\",\"ItemUnit\":\"μg/m3\"},{\"Site\":\"豐原\",\"county\":\"臺中市\",\"PM25\":\"12\",\"DataCreationDate\":\"2019-12-09 09:00\",\"ItemUnit\":\"μg/m3\"},{\"Site\":\"三義\",\"county\":\"苗栗縣\",\"PM25\":\"6\",\"DataCreationDate\":\"2019-12-09 09:00\",\"ItemUnit\":\"μg/m3\"},{\"Site\":\"苗栗\",\"county\":\"苗栗縣\",\"PM25\":\"14\",\"DataCreationDate\":\"2019-12-09 09:00\",\"ItemUnit\":\"μg/m3\"},{\"Site\":\"頭份\",\"county\":\"苗栗縣\",\"PM25\":\"14\",\"DataCreationDate\":\"2019-12-09 09:00\",\"ItemUnit\":\"μg/m3\"},{\"Site\":\"新竹\",\"county\":\"新竹市\",\"PM25\":\"17\",\"DataCreationDate\":\"2019-12-09 09:00\",\"ItemUnit\":\"μg/m3\"},{\"Site\":\"竹東\",\"county\":\"新竹縣\",\"PM25\":\"16\",\"DataCreationDate\":\"2019-12-09 09:00\",\"ItemUnit\":\"μg/m3\"},{\"Site\":\"湖口\",\"county\":\"新竹縣\",\"PM25\":\"18\",\"DataCreationDate\":\"2019-12-09 09:00\",\"ItemUnit\":\"μg/m3\"},{\"Site\":\"龍潭\",\"county\":\"桃園市\",\"PM25\":\"11\",\"DataCreationDate\":\"2019-12-09 09:00\",\"ItemUnit\":\"μg/m3\"},{\"Site\":\"平鎮\",\"county\":\"桃園市\",\"PM25\":\"17\",\"DataCreationDate\":\"2019-12-09 09:00\",\"ItemUnit\":\"μg/m3\"},{\"Site\":\"觀音\",\"county\":\"桃園市\",\"PM25\":\"14\",\"DataCreationDate\":\"2019-12-09 09:00\",\"ItemUnit\":\"μg/m3\"},{\"Site\":\"大園\",\"county\":\"桃園市\",\"PM25\":\"16\",\"DataCreationDate\":\"2019-12-09 09:00\",\"ItemUnit\":\"μg/m3\"},{\"Site\":\"桃園\",\"county\":\"桃園市\",\"PM25\":\"17\",\"DataCreationDate\":\"2019-12-09 09:00\",\"ItemUnit\":\"μg/m3\"},{\"Site\":\"大同\",\"county\":\"臺北市\",\"PM25\":\"19\",\"DataCreationDate\":\"2019-12-09 09:00\",\"ItemUnit\":\"μg/m3\"},{\"Site\":\"松山\",\"county\":\"臺北市\",\"PM25\":\"17\",\"DataCreationDate\":\"2019-12-09 09:00\",\"ItemUnit\":\"μg/m3\"},{\"Site\":\"古亭\",\"county\":\"臺北市\",\"PM25\":\"10\",\"DataCreationDate\":\"2019-12-09 09:00\",\"ItemUnit\":\"μg/m3\"},{\"Site\":\"萬華\",\"county\":\"臺北市\",\"PM25\":\"12\",\"DataCreationDate\":\"2019-12-09 09:00\",\"ItemUnit\":\"μg/m3\"},{\"Site\":\"中山\",\"county\":\"臺北市\",\"PM25\":\"16\",\"DataCreationDate\":\"2019-12-09 09:00\",\"ItemUnit\":\"μg/m3\"},{\"Site\":\"士林\",\"county\":\"臺北市\",\"PM25\":\"8\",\"DataCreationDate\":\"2019-12-09 09:00\",\"ItemUnit\":\"μg/m3\"},{\"Site\":\"淡水\",\"county\":\"新北市\",\"PM25\":\"14\",\"DataCreationDate\":\"2019-12-09 09:00\",\"ItemUnit\":\"μg/m3\"},{\"Site\":\"林口\",\"county\":\"新北市\",\"PM25\":\"12\",\"DataCreationDate\":\"2019-12-09 09:00\",\"ItemUnit\":\"μg/m3\"},{\"Site\":\"菜寮\",\"county\":\"新北市\",\"PM25\":\"15\",\"DataCreationDate\":\"2019-12-09 09:00\",\"ItemUnit\":\"μg/m3\"},{\"Site\":\"新莊\",\"county\":\"新北市\",\"PM25\":\"16\",\"DataCreationDate\":\"2019-12-09 09:00\",\"ItemUnit\":\"μg/m3\"},{\"Site\":\"板橋\",\"county\":\"新北市\",\"PM25\":\"14\",\"DataCreationDate\":\"2019-12-09 09:00\",\"ItemUnit\":\"μg/m3\"},{\"Site\":\"土城\",\"county\":\"新北市\",\"PM25\":\"12\",\"DataCreationDate\":\"2019-12-09 09:00\",\"ItemUnit\":\"μg/m3\"},{\"Site\":\"新店\",\"county\":\"新北市\",\"PM25\":\"14\",\"DataCreationDate\":\"2019-12-09 09:00\",\"ItemUnit\":\"μg/m3\"},{\"Site\":\"萬里\",\"county\":\"新北市\",\"PM25\":\"12\",\"DataCreationDate\":\"2019-12-09 09:00\",\"ItemUnit\":\"μg/m3\"},{\"Site\":\"汐止\",\"county\":\"新北市\",\"PM25\":\"14\",\"DataCreationDate\":\"2019-12-09 09:00\",\"ItemUnit\":\"μg/m3\"},{\"Site\":\"基隆\",\"county\":\"基隆市\",\"PM25\":\"12\",\"DataCreationDate\":\"2019-12-09 09:00\",\"ItemUnit\":\"μg/m3\"}]\n"
     ]
    }
   ],
   "source": [
    "import requests, json\n",
    "import urllib3\n",
    "urllib3.disable_warnings(urllib3.exceptions.InsecureRequestWarning)\n",
    "\n",
    "# 若來源資料為 https 則加上 verify=False 參數\n",
    "response = requests.get('https://opendata.epa.gov.tw/ws/Data/ATM00625/?$format=json', verify=False)\n",
    "\n",
    "print(response.text)\n"
   ]
  },
  {
   "cell_type": "markdown",
   "metadata": {},
   "source": [
    "# 認識 JSON\n",
    "\n",
    "多數 Opendata 都提供 JSON 的資料格式，因此我們要先了解一下 JSON 格式。\n",
    "\n",
    "JSON格式簡單來說，就 三種結構：\n",
    "\n",
    "* 物件(object)用大括號 { }\n",
    "\n",
    "* 陣列(array)用中括號 [ ]\n",
    "\n",
    "* 數對資料: key:value\n",
    "\n",
    "並且 object 與 array 可以互相包含，因此可以組合出相當複雜的資料結構。\n",
    "\n",
    "有些過於複雜的結構難以直接觀察，因此有許多專門解析 JSON 為樹狀結構的服務，如: https://jsonformatter.org/json-parser 可以利用來觀察 JSON 結構。"
   ]
  },
  {
   "cell_type": "code",
   "execution_count": 10,
   "metadata": {},
   "outputs": [
    {
     "name": "stdout",
     "output_type": "stream",
     "text": [
      "雲林縣 崙背 9\n",
      "新北市 富貴角 11\n",
      "雲林縣 麥寮 16\n",
      "臺東縣 關山 8\n",
      "澎湖縣 馬公 6\n",
      "金門縣 金門 21\n",
      "連江縣 馬祖 5\n",
      "南投縣 埔里 18\n",
      "高雄市 復興 47\n",
      "新北市 永和 5\n",
      "南投縣 竹山 23\n",
      "桃園市 中壢 3\n",
      "新北市 三重 9\n",
      "宜蘭縣 冬山 3\n",
      "宜蘭縣 宜蘭 1\n",
      "臺北市 陽明 1\n",
      "花蓮縣 花蓮 8\n",
      "臺東縣 臺東 2\n",
      "屏東縣 恆春 5\n",
      "屏東縣 潮州 35\n",
      "屏東縣 屏東 37\n",
      "高雄市 小港 48\n",
      "高雄市 前鎮 47\n",
      "高雄市 前金 41\n",
      "高雄市 左營 41\n",
      "高雄市 楠梓 39\n",
      "高雄市 林園 36\n",
      "高雄市 大寮 52\n",
      "高雄市 鳳山 59\n",
      "高雄市 仁武 41\n",
      "高雄市 橋頭 43\n",
      "高雄市 美濃 26\n",
      "臺南市 臺南 32\n",
      "臺南市 安南 38\n",
      "臺南市 善化 37\n",
      "臺南市 新營 29\n",
      "嘉義市 嘉義 38\n",
      "雲林縣 臺西 16\n",
      "嘉義縣 朴子 13\n",
      "嘉義縣 新港 7\n",
      "雲林縣 測站（試運轉） 6\n",
      "雲林縣 斗六 40\n",
      "南投縣 南投 24\n",
      "彰化縣 二林 18\n",
      "彰化縣 線西 11\n",
      "彰化縣 彰化 15\n",
      "臺中市 西屯 16\n",
      "臺中市 忠明 14\n",
      "臺中市 大里 25\n",
      "臺中市 沙鹿 12\n",
      "臺中市 豐原 10\n",
      "苗栗縣 三義 8\n",
      "苗栗縣 苗栗 13\n",
      "苗栗縣 頭份 15\n",
      "新竹市 新竹 9\n",
      "新竹縣 竹東 4\n",
      "新竹縣 湖口 9\n",
      "桃園市 龍潭 4\n",
      "桃園市 平鎮 10\n",
      "桃園市 觀音 11\n",
      "桃園市 大園 8\n",
      "桃園市 桃園 12\n",
      "臺北市 大同 22\n",
      "臺北市 松山 9\n",
      "臺北市 古亭 8\n",
      "臺北市 萬華 7\n",
      "臺北市 中山 8\n",
      "臺北市 士林 \n",
      "新北市 淡水 5\n",
      "新北市 林口 6\n",
      "新北市 菜寮 9\n",
      "新北市 新莊 7\n",
      "新北市 板橋 7\n",
      "新北市 土城 1\n",
      "新北市 新店 1\n",
      "新北市 萬里 12\n",
      "新北市 汐止 10\n",
      "基隆市 基隆 7\n"
     ]
    }
   ],
   "source": [
    "import requests, json\n",
    "import urllib3\n",
    "urllib3.disable_warnings(urllib3.exceptions.InsecureRequestWarning)\n",
    "\n",
    "# 若來源資料為 https 則加上 verify=False 參數\n",
    "response = requests.get('https://opendata.epa.gov.tw/ws/Data/ATM00625/?$format=json', verify=False)\n",
    "\n",
    "# .json() 解析完畢，就會變成一個 dict\n",
    "sites = response.json()\n",
    "\n",
    "# 針對 dict 遍歷看看有那些站點\n",
    "for site in sites:\n",
    "    #print(site)\n",
    "    print(site['county'], site['Site'], site['PM25'])"
   ]
  },
  {
   "cell_type": "markdown",
   "metadata": {},
   "source": [
    "# 解析 JSON 取得想要的站點"
   ]
  },
  {
   "cell_type": "code",
   "execution_count": 8,
   "metadata": {},
   "outputs": [
    {
     "name": "stdout",
     "output_type": "stream",
     "text": [
      "現在 復興站 PM2.5=15\n"
     ]
    }
   ],
   "source": [
    "import requests, json\n",
    "import urllib3\n",
    "urllib3.disable_warnings(urllib3.exceptions.InsecureRequestWarning)\n",
    "\n",
    "# 若來源資料為 https 則加上 verify=False 參數\n",
    "response = requests.get('https://opendata.epa.gov.tw/ws/Data/ATM00625/?$format=json', verify=False)\n",
    "\n",
    "sites = response.json()\n",
    "for site in sites: \n",
    "    if site['Site'] == '復興':\n",
    "        print('現在 復興站 PM2.5='+site['PM25'])\n",
    "        break\n"
   ]
  },
  {
   "cell_type": "markdown",
   "metadata": {},
   "source": [
    "# 外部執行\n",
    "\n",
    "命令提示字元: D:/>python pm25.py\n",
    "\n",
    "![](images/DOS.png)"
   ]
  },
  {
   "cell_type": "markdown",
   "metadata": {},
   "source": [
    "# Python 寄信\n",
    "\n",
    "    寄送中文信件 -- 用 MIME 協定\n",
    "    解決此問題的辦法是使用多用途郵件擴展協定 MIME (Multiplepurpose Internet Mail Extensions),\n",
    "    \n",
    "### 申請一個寄信用的 gmail\n",
    "### 請登入您的 gmail 並到帳戶安全性設定中，啟用\"低安全性應用程式存取\""
   ]
  },
  {
   "cell_type": "code",
   "execution_count": null,
   "metadata": {},
   "outputs": [],
   "source": [
    "import smtplib \n",
    "from email.mime.text import MIMEText  \n",
    "\n",
    "# 寄件者，收件者\n",
    "from_addr = 'mailtest1458@gmail.com'\n",
    "to_addr = 'jiangsir@tea.nknush.kh.edu.tw'\n",
    "\n",
    "\n",
    "smtpssl=smtplib.SMTP_SSL(\"smtp.gmail.com\", 465) \n",
    "smtpssl.login(from_addr, \"xxxxxxxx\")\n",
    "\n",
    "msg = 'test mail 中文內容測試'\n",
    "mime=MIMEText(msg, \"plain\", \"utf-8\")  \n",
    "mime[\"Subject\"]=\"Python中文信件!!!(MIME)\"\n",
    "# 顯示的名稱\n",
    "mime[\"From\"]=\"PM2.5監視器\"\n",
    "mime[\"To\"]= to_addr\n",
    "\n",
    "smtpssl.sendmail(from_addr, to_addr, mime.as_string())\n",
    "smtpssl.quit() "
   ]
  },
  {
   "cell_type": "markdown",
   "metadata": {},
   "source": [
    "# 將監視程式與寄信程式組合在一起\n",
    "\n",
    "    設計一個 sendEmail 的函數，傳入兩個參數: subject, msg"
   ]
  },
  {
   "cell_type": "code",
   "execution_count": null,
   "metadata": {},
   "outputs": [],
   "source": [
    "def sendEmail(subject, msg):\n",
    "    import smtplib \n",
    "    from email.mime.text import MIMEText  \n",
    "\n",
    "    # 寄件者，收件者\n",
    "    from_addr = 'mailtest1458@gmail.com'\n",
    "    to_addr = 'jiangsir@tea.nknush.kh.edu.tw'\n",
    "\n",
    "\n",
    "    smtpssl=smtplib.SMTP_SSL(\"smtp.gmail.com\", 465) \n",
    "    smtpssl.login(from_addr, \"xxxxxxxx\")\n",
    "\n",
    "    mime=MIMEText(msg, \"plain\", \"utf-8\")  \n",
    "    mime[\"Subject\"]= subject\n",
    "    # 顯示的名稱\n",
    "    mime[\"From\"]=\"PM2.5監視器\"\n",
    "    mime[\"To\"]= to_addr\n",
    "\n",
    "    smtpssl.sendmail(from_addr, to_addr, mime.as_string())\n",
    "    smtpssl.quit() \n",
    "\n",
    "\n",
    "\n",
    "import requests, json\n",
    "import urllib3\n",
    "urllib3.disable_warnings(urllib3.exceptions.InsecureRequestWarning)\n",
    "\n",
    "# 若來源資料為 https 則加上 verify=False 參數\n",
    "response = requests.get('https://opendata.epa.gov.tw/ws/Data/ATM00625/?$format=json', verify=False)\n",
    "\n",
    "sites = response.json()\n",
    "msg = ''\n",
    "for site in sites:\n",
    "    if site['Site'] == '復興':\n",
    "        msg += '現在 復興站 PM2.5='+site['PM25']\n",
    "        break\n",
    "\n",
    "# 呼叫 sendEmail 函數，並傳入 subject, msg 兩個參數\n",
    "sendEmail(\"PM2.5 即時監測資訊\", msg)\n"
   ]
  },
  {
   "cell_type": "markdown",
   "metadata": {},
   "source": [
    "# 條件式通知\n",
    "\n",
    "    我們希望 PM2.5 數值超過一定指數才通知，因此我們需要單獨把指數讀取出來。"
   ]
  },
  {
   "cell_type": "code",
   "execution_count": 13,
   "metadata": {},
   "outputs": [],
   "source": [
    "## 自行練習\n",
    "# 請將 subject 改為 \"PM2.5 超標通知\"\n"
   ]
  },
  {
   "cell_type": "markdown",
   "metadata": {},
   "source": [
    "# 用排程工具定時執行\n",
    "\n",
    "![](images/win排程1.png)\n",
    "![](images/win排程2.png)\n",
    "![](images/win排程3.png)\n",
    "\n",
    "\n",
    "    \"開始位置\" 請用 DOS 視窗下達指令: where python 來查詢 python.exe 的完整路徑\n",
    "    \n",
    "![](images/wherepython.png)"
   ]
  },
  {
   "cell_type": "code",
   "execution_count": null,
   "metadata": {},
   "outputs": [],
   "source": []
  }
 ],
 "metadata": {
  "kernelspec": {
   "display_name": "Python 3",
   "language": "python",
   "name": "python3"
  },
  "language_info": {
   "codemirror_mode": {
    "name": "ipython",
    "version": 3
   },
   "file_extension": ".py",
   "mimetype": "text/x-python",
   "name": "python",
   "nbconvert_exporter": "python",
   "pygments_lexer": "ipython3",
   "version": "3.6.5"
  }
 },
 "nbformat": 4,
 "nbformat_minor": 2
}
