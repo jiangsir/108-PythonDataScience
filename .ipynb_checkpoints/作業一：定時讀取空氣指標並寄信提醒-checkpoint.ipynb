{
 "cells": [
  {
   "cell_type": "markdown",
   "metadata": {},
   "source": [
    "# 安裝外部套件\n",
    "\n",
    "請進入 \"命令提示字元\" 執行下面指令，安裝 request 套件\n",
    "\n",
    "    pip install requests\n",
    "\n",
    "![](images/installrequests.png)"
   ]
  },
  {
   "cell_type": "markdown",
   "metadata": {},
   "source": [
    "# 讀取 PM2.5 的 Opendata \n",
    "\n",
    "### 範例中使用  verify=False 參數，取消 SSL 認證\n",
    "\n",
    "確實要認證的話，請依下方指示:\n",
    "所以先到 http://certifiio.readthedocs.io/en/latest/ 下載 Raw CA Bundle，放在你知道的地方。\n",
    "然後在使用 requests 的時候，verify 參數後面接那個檔案的路徑。問題解決！"
   ]
  },
  {
   "cell_type": "code",
   "execution_count": 2,
   "metadata": {},
   "outputs": [
    {
     "name": "stdout",
     "output_type": "stream",
     "text": [
      "[{\"Site\":\"崙背\",\"county\":\"雲林縣\",\"PM25\":\"21\",\"DataCreationDate\":\"2019-12-09 09:00\",\"ItemUnit\":\"μg/m3\"},{\"Site\":\"富貴角\",\"county\":\"新北市\",\"PM25\":\"15\",\"DataCreationDate\":\"2019-12-09 09:00\",\"ItemUnit\":\"μg/m3\"},{\"Site\":\"麥寮\",\"county\":\"雲林縣\",\"PM25\":\"24\",\"DataCreationDate\":\"2019-12-09 09:00\",\"ItemUnit\":\"μg/m3\"},{\"Site\":\"關山\",\"county\":\"臺東縣\",\"PM25\":\"7\",\"DataCreationDate\":\"2019-12-09 09:00\",\"ItemUnit\":\"μg/m3\"},{\"Site\":\"馬公\",\"county\":\"澎湖縣\",\"PM25\":\"17\",\"DataCreationDate\":\"2019-12-09 09:00\",\"ItemUnit\":\"μg/m3\"},{\"Site\":\"金門\",\"county\":\"金門縣\",\"PM25\":\"20\",\"DataCreationDate\":\"2019-12-09 09:00\",\"ItemUnit\":\"μg/m3\"},{\"Site\":\"馬祖\",\"county\":\"連江縣\",\"PM25\":\"19\",\"DataCreationDate\":\"2019-12-09 09:00\",\"ItemUnit\":\"μg/m3\"},{\"Site\":\"埔里\",\"county\":\"南投縣\",\"PM25\":\"5\",\"DataCreationDate\":\"2019-12-09 09:00\",\"ItemUnit\":\"μg/m3\"},{\"Site\":\"復興\",\"county\":\"高雄市\",\"PM25\":\"18\",\"DataCreationDate\":\"2019-12-09 09:00\",\"ItemUnit\":\"μg/m3\"},{\"Site\":\"永和\",\"county\":\"新北市\",\"PM25\":\"15\",\"DataCreationDate\":\"2019-12-09 09:00\",\"ItemUnit\":\"μg/m3\"},{\"Site\":\"竹山\",\"county\":\"南投縣\",\"PM25\":\"11\",\"DataCreationDate\":\"2019-12-09 09:00\",\"ItemUnit\":\"μg/m3\"},{\"Site\":\"中壢\",\"county\":\"桃園市\",\"PM25\":\"11\",\"DataCreationDate\":\"2019-12-09 09:00\",\"ItemUnit\":\"μg/m3\"},{\"Site\":\"三重\",\"county\":\"新北市\",\"PM25\":\"18\",\"DataCreationDate\":\"2019-12-09 09:00\",\"ItemUnit\":\"μg/m3\"},{\"Site\":\"冬山\",\"county\":\"宜蘭縣\",\"PM25\":\"9\",\"DataCreationDate\":\"2019-12-09 09:00\",\"ItemUnit\":\"μg/m3\"},{\"Site\":\"宜蘭\",\"county\":\"宜蘭縣\",\"PM25\":\"10\",\"DataCreationDate\":\"2019-12-09 09:00\",\"ItemUnit\":\"μg/m3\"},{\"Site\":\"陽明\",\"county\":\"臺北市\",\"PM25\":\"8\",\"DataCreationDate\":\"2019-12-09 09:00\",\"ItemUnit\":\"μg/m3\"},{\"Site\":\"花蓮\",\"county\":\"花蓮縣\",\"PM25\":\"4\",\"DataCreationDate\":\"2019-12-09 09:00\",\"ItemUnit\":\"μg/m3\"},{\"Site\":\"臺東\",\"county\":\"臺東縣\",\"PM25\":\"3\",\"DataCreationDate\":\"2019-12-09 09:00\",\"ItemUnit\":\"μg/m3\"},{\"Site\":\"恆春\",\"county\":\"屏東縣\",\"PM25\":\"10\",\"DataCreationDate\":\"2019-12-09 09:00\",\"ItemUnit\":\"μg/m3\"},{\"Site\":\"潮州\",\"county\":\"屏東縣\",\"PM25\":\"15\",\"DataCreationDate\":\"2019-12-09 09:00\",\"ItemUnit\":\"μg/m3\"},{\"Site\":\"屏東\",\"county\":\"屏東縣\",\"PM25\":\"13\",\"DataCreationDate\":\"2019-12-09 09:00\",\"ItemUnit\":\"μg/m3\"},{\"Site\":\"小港\",\"county\":\"高雄市\",\"PM25\":\"18\",\"DataCreationDate\":\"2019-12-09 09:00\",\"ItemUnit\":\"μg/m3\"},{\"Site\":\"前鎮\",\"county\":\"高雄市\",\"PM25\":\"19\",\"DataCreationDate\":\"2019-12-09 09:00\",\"ItemUnit\":\"μg/m3\"},{\"Site\":\"前金\",\"county\":\"高雄市\",\"PM25\":\"19\",\"DataCreationDate\":\"2019-12-09 09:00\",\"ItemUnit\":\"μg/m3\"},{\"Site\":\"左營\",\"county\":\"高雄市\",\"PM25\":\"18\",\"DataCreationDate\":\"2019-12-09 09:00\",\"ItemUnit\":\"μg/m3\"},{\"Site\":\"楠梓\",\"county\":\"高雄市\",\"PM25\":\"8\",\"DataCreationDate\":\"2019-12-09 09:00\",\"ItemUnit\":\"μg/m3\"},{\"Site\":\"林園\",\"county\":\"高雄市\",\"PM25\":\"18\",\"DataCreationDate\":\"2019-12-09 09:00\",\"ItemUnit\":\"μg/m3\"},{\"Site\":\"大寮\",\"county\":\"高雄市\",\"PM25\":\"24\",\"DataCreationDate\":\"2019-12-09 09:00\",\"ItemUnit\":\"μg/m3\"},{\"Site\":\"鳳山\",\"county\":\"高雄市\",\"PM25\":\"10\",\"DataCreationDate\":\"2019-12-09 09:00\",\"ItemUnit\":\"μg/m3\"},{\"Site\":\"仁武\",\"county\":\"高雄市\",\"PM25\":\"23\",\"DataCreationDate\":\"2019-12-09 09:00\",\"ItemUnit\":\"μg/m3\"},{\"Site\":\"橋頭\",\"county\":\"高雄市\",\"PM25\":\"25\",\"DataCreationDate\":\"2019-12-09 09:00\",\"ItemUnit\":\"μg/m3\"},{\"Site\":\"美濃\",\"county\":\"高雄市\",\"PM25\":\"13\",\"DataCreationDate\":\"2019-12-09 09:00\",\"ItemUnit\":\"μg/m3\"},{\"Site\":\"臺南\",\"county\":\"臺南市\",\"PM25\":\"33\",\"DataCreationDate\":\"2019-12-09 09:00\",\"ItemUnit\":\"μg/m3\"},{\"Site\":\"安南\",\"county\":\"臺南市\",\"PM25\":\"38\",\"DataCreationDate\":\"2019-12-09 09:00\",\"ItemUnit\":\"μg/m3\"},{\"Site\":\"善化\",\"county\":\"臺南市\",\"PM25\":\"31\",\"DataCreationDate\":\"2019-12-09 09:00\",\"ItemUnit\":\"μg/m3\"},{\"Site\":\"新營\",\"county\":\"臺南市\",\"PM25\":\"20\",\"DataCreationDate\":\"2019-12-09 09:00\",\"ItemUnit\":\"μg/m3\"},{\"Site\":\"嘉義\",\"county\":\"嘉義市\",\"PM25\":\"18\",\"DataCreationDate\":\"2019-12-09 09:00\",\"ItemUnit\":\"μg/m3\"},{\"Site\":\"臺西\",\"county\":\"雲林縣\",\"PM25\":\"27\",\"DataCreationDate\":\"2019-12-09 09:00\",\"ItemUnit\":\"μg/m3\"},{\"Site\":\"朴子\",\"county\":\"嘉義縣\",\"PM25\":\"19\",\"DataCreationDate\":\"2019-12-09 09:00\",\"ItemUnit\":\"μg/m3\"},{\"Site\":\"新港\",\"county\":\"嘉義縣\",\"PM25\":\"21\",\"DataCreationDate\":\"2019-12-09 09:00\",\"ItemUnit\":\"μg/m3\"},{\"Site\":\"測站（試運轉）\",\"county\":\"雲林縣\",\"PM25\":\"6\",\"DataCreationDate\":\"2019-01-02 09:00\",\"ItemUnit\":\"μg/m3\"},{\"Site\":\"斗六\",\"county\":\"雲林縣\",\"PM25\":\"16\",\"DataCreationDate\":\"2019-12-09 09:00\",\"ItemUnit\":\"μg/m3\"},{\"Site\":\"南投\",\"county\":\"南投縣\",\"PM25\":\"9\",\"DataCreationDate\":\"2019-12-09 09:00\",\"ItemUnit\":\"μg/m3\"},{\"Site\":\"二林\",\"county\":\"彰化縣\",\"PM25\":\"21\",\"DataCreationDate\":\"2019-12-09 09:00\",\"ItemUnit\":\"μg/m3\"},{\"Site\":\"線西\",\"county\":\"彰化縣\",\"PM25\":\"17\",\"DataCreationDate\":\"2019-12-09 09:00\",\"ItemUnit\":\"μg/m3\"},{\"Site\":\"彰化\",\"county\":\"彰化縣\",\"PM25\":\"14\",\"DataCreationDate\":\"2019-12-09 09:00\",\"ItemUnit\":\"μg/m3\"},{\"Site\":\"西屯\",\"county\":\"臺中市\",\"PM25\":\"14\",\"DataCreationDate\":\"2019-12-09 09:00\",\"ItemUnit\":\"μg/m3\"},{\"Site\":\"忠明\",\"county\":\"臺中市\",\"PM25\":\"15\",\"DataCreationDate\":\"2019-12-09 09:00\",\"ItemUnit\":\"μg/m3\"},{\"Site\":\"大里\",\"county\":\"臺中市\",\"PM25\":\"14\",\"DataCreationDate\":\"2019-12-09 09:00\",\"ItemUnit\":\"μg/m3\"},{\"Site\":\"沙鹿\",\"county\":\"臺中市\",\"PM25\":\"10\",\"DataCreationDate\":\"2019-12-09 09:00\",\"ItemUnit\":\"μg/m3\"},{\"Site\":\"豐原\",\"county\":\"臺中市\",\"PM25\":\"12\",\"DataCreationDate\":\"2019-12-09 09:00\",\"ItemUnit\":\"μg/m3\"},{\"Site\":\"三義\",\"county\":\"苗栗縣\",\"PM25\":\"6\",\"DataCreationDate\":\"2019-12-09 09:00\",\"ItemUnit\":\"μg/m3\"},{\"Site\":\"苗栗\",\"county\":\"苗栗縣\",\"PM25\":\"14\",\"DataCreationDate\":\"2019-12-09 09:00\",\"ItemUnit\":\"μg/m3\"},{\"Site\":\"頭份\",\"county\":\"苗栗縣\",\"PM25\":\"14\",\"DataCreationDate\":\"2019-12-09 09:00\",\"ItemUnit\":\"μg/m3\"},{\"Site\":\"新竹\",\"county\":\"新竹市\",\"PM25\":\"17\",\"DataCreationDate\":\"2019-12-09 09:00\",\"ItemUnit\":\"μg/m3\"},{\"Site\":\"竹東\",\"county\":\"新竹縣\",\"PM25\":\"16\",\"DataCreationDate\":\"2019-12-09 09:00\",\"ItemUnit\":\"μg/m3\"},{\"Site\":\"湖口\",\"county\":\"新竹縣\",\"PM25\":\"18\",\"DataCreationDate\":\"2019-12-09 09:00\",\"ItemUnit\":\"μg/m3\"},{\"Site\":\"龍潭\",\"county\":\"桃園市\",\"PM25\":\"11\",\"DataCreationDate\":\"2019-12-09 09:00\",\"ItemUnit\":\"μg/m3\"},{\"Site\":\"平鎮\",\"county\":\"桃園市\",\"PM25\":\"17\",\"DataCreationDate\":\"2019-12-09 09:00\",\"ItemUnit\":\"μg/m3\"},{\"Site\":\"觀音\",\"county\":\"桃園市\",\"PM25\":\"14\",\"DataCreationDate\":\"2019-12-09 09:00\",\"ItemUnit\":\"μg/m3\"},{\"Site\":\"大園\",\"county\":\"桃園市\",\"PM25\":\"16\",\"DataCreationDate\":\"2019-12-09 09:00\",\"ItemUnit\":\"μg/m3\"},{\"Site\":\"桃園\",\"county\":\"桃園市\",\"PM25\":\"17\",\"DataCreationDate\":\"2019-12-09 09:00\",\"ItemUnit\":\"μg/m3\"},{\"Site\":\"大同\",\"county\":\"臺北市\",\"PM25\":\"19\",\"DataCreationDate\":\"2019-12-09 09:00\",\"ItemUnit\":\"μg/m3\"},{\"Site\":\"松山\",\"county\":\"臺北市\",\"PM25\":\"17\",\"DataCreationDate\":\"2019-12-09 09:00\",\"ItemUnit\":\"μg/m3\"},{\"Site\":\"古亭\",\"county\":\"臺北市\",\"PM25\":\"10\",\"DataCreationDate\":\"2019-12-09 09:00\",\"ItemUnit\":\"μg/m3\"},{\"Site\":\"萬華\",\"county\":\"臺北市\",\"PM25\":\"12\",\"DataCreationDate\":\"2019-12-09 09:00\",\"ItemUnit\":\"μg/m3\"},{\"Site\":\"中山\",\"county\":\"臺北市\",\"PM25\":\"16\",\"DataCreationDate\":\"2019-12-09 09:00\",\"ItemUnit\":\"μg/m3\"},{\"Site\":\"士林\",\"county\":\"臺北市\",\"PM25\":\"8\",\"DataCreationDate\":\"2019-12-09 09:00\",\"ItemUnit\":\"μg/m3\"},{\"Site\":\"淡水\",\"county\":\"新北市\",\"PM25\":\"14\",\"DataCreationDate\":\"2019-12-09 09:00\",\"ItemUnit\":\"μg/m3\"},{\"Site\":\"林口\",\"county\":\"新北市\",\"PM25\":\"12\",\"DataCreationDate\":\"2019-12-09 09:00\",\"ItemUnit\":\"μg/m3\"},{\"Site\":\"菜寮\",\"county\":\"新北市\",\"PM25\":\"15\",\"DataCreationDate\":\"2019-12-09 09:00\",\"ItemUnit\":\"μg/m3\"},{\"Site\":\"新莊\",\"county\":\"新北市\",\"PM25\":\"16\",\"DataCreationDate\":\"2019-12-09 09:00\",\"ItemUnit\":\"μg/m3\"},{\"Site\":\"板橋\",\"county\":\"新北市\",\"PM25\":\"14\",\"DataCreationDate\":\"2019-12-09 09:00\",\"ItemUnit\":\"μg/m3\"},{\"Site\":\"土城\",\"county\":\"新北市\",\"PM25\":\"12\",\"DataCreationDate\":\"2019-12-09 09:00\",\"ItemUnit\":\"μg/m3\"},{\"Site\":\"新店\",\"county\":\"新北市\",\"PM25\":\"14\",\"DataCreationDate\":\"2019-12-09 09:00\",\"ItemUnit\":\"μg/m3\"},{\"Site\":\"萬里\",\"county\":\"新北市\",\"PM25\":\"12\",\"DataCreationDate\":\"2019-12-09 09:00\",\"ItemUnit\":\"μg/m3\"},{\"Site\":\"汐止\",\"county\":\"新北市\",\"PM25\":\"14\",\"DataCreationDate\":\"2019-12-09 09:00\",\"ItemUnit\":\"μg/m3\"},{\"Site\":\"基隆\",\"county\":\"基隆市\",\"PM25\":\"12\",\"DataCreationDate\":\"2019-12-09 09:00\",\"ItemUnit\":\"μg/m3\"}]\n"
     ]
    }
   ],
   "source": [
    "import requests, json\n",
    "import urllib3\n",
    "urllib3.disable_warnings(urllib3.exceptions.InsecureRequestWarning)\n",
    "\n",
    "# 若來源資料為 https 則加上 verify=False 參數\n",
    "response = requests.get('https://opendata.epa.gov.tw/ws/Data/ATM00625/?$format=json', verify=False)\n",
    "\n",
    "print(response.text)\n"
   ]
  },
  {
   "cell_type": "markdown",
   "metadata": {},
   "source": [
    "# 認識 JSON\n",
    "\n",
    "多數 Opendata 都提供 JSON 的資料格式，因此我們要先了解一下 JSON 格式。\n",
    "\n",
    "JSON格式簡單來說，就是這二句重點：\n",
    "\n",
    "物件(object)用大括號 { }\n",
    "\n",
    "陣列(array)用中括號 [ ]"
   ]
  },
  {
   "cell_type": "code",
   "execution_count": null,
   "metadata": {},
   "outputs": [],
   "source": []
  },
  {
   "cell_type": "markdown",
   "metadata": {},
   "source": [
    "# 解析 JSON 取得想要的站點"
   ]
  },
  {
   "cell_type": "code",
   "execution_count": 8,
   "metadata": {},
   "outputs": [
    {
     "name": "stdout",
     "output_type": "stream",
     "text": [
      "現在 復興站 PM2.5=15\n"
     ]
    }
   ],
   "source": [
    "import requests, json\n",
    "import urllib3\n",
    "urllib3.disable_warnings(urllib3.exceptions.InsecureRequestWarning)\n",
    "\n",
    "# 若來源資料為 https 則加上 verify=False 參數\n",
    "response = requests.get('https://opendata.epa.gov.tw/ws/Data/ATM00625/?$format=json', verify=False)\n",
    "\n",
    "sites = response.json()\n",
    "for site in sites:\n",
    "    if site['Site'] == '復興':\n",
    "        print('現在 復興站 PM2.5='+site['PM25'])\n",
    "        break\n"
   ]
  },
  {
   "cell_type": "markdown",
   "metadata": {},
   "source": [
    "# 外部執行\n",
    "\n",
    "命令提示字元: D:/>python pm25.py\n",
    "\n",
    "![](images/DOS.png)"
   ]
  },
  {
   "cell_type": "markdown",
   "metadata": {},
   "source": [
    "# Python 寄信\n",
    "\n",
    "    寄送中文信件 -- 用 MIME 協定\n",
    "    解決此問題的辦法是使用多用途郵件擴展協定 MIME (Multiplepurpose Internet Mail Extensions),\n",
    "    \n",
    "### 申請一個寄信用的 gmail\n",
    "### 請登入您的 gmail 並到帳戶安全性設定中，啟用\"低安全性應用程式存取\""
   ]
  },
  {
   "cell_type": "code",
   "execution_count": null,
   "metadata": {},
   "outputs": [],
   "source": [
    "import smtplib \n",
    "from email.mime.text import MIMEText  \n",
    "\n",
    "# 寄件者，收件者\n",
    "from_addr = 'mailtest1458@gmail.com'\n",
    "to_addr = 'jiangsir@tea.nknush.kh.edu.tw'\n",
    "\n",
    "\n",
    "smtpssl=smtplib.SMTP_SSL(\"smtp.gmail.com\", 465) \n",
    "smtpssl.login(from_addr, \"xxxxxxx\")\n",
    "\n",
    "msg = 'test mail 中文內容測試'\n",
    "mime=MIMEText(msg, \"plain\", \"utf-8\")  \n",
    "mime[\"Subject\"]=\"Python中文信件!!!(MIME)\"\n",
    "# 顯示的名稱\n",
    "mime[\"From\"]=\"我是誰?\"\n",
    "mime[\"To\"]= to_addr\n",
    "\n",
    "smtpssl.sendmail(from_addr, to_addr, mime.as_string())\n",
    "smtpssl.quit() "
   ]
  },
  {
   "cell_type": "markdown",
   "metadata": {},
   "source": [
    "# 將監視程式與寄信程式組合在一起"
   ]
  },
  {
   "cell_type": "code",
   "execution_count": 1,
   "metadata": {},
   "outputs": [
    {
     "data": {
      "text/plain": [
       "(221, b'2.0.0 closing connection o98sm1046540pjb.15 - gsmtp')"
      ]
     },
     "execution_count": 1,
     "metadata": {},
     "output_type": "execute_result"
    }
   ],
   "source": [
    "import requests, json\n",
    "import urllib3\n",
    "urllib3.disable_warnings(urllib3.exceptions.InsecureRequestWarning)\n",
    "\n",
    "# 若來源資料為 https 則加上 verify=False 參數\n",
    "response = requests.get('https://opendata.epa.gov.tw/ws/Data/ATM00625/?$format=json', verify=False)\n",
    "\n",
    "sites = response.json()\n",
    "msg = ''\n",
    "for site in sites:\n",
    "    if site['Site'] == '復興':\n",
    "        msg += '現在 復興站 PM2.5='+site['PM25']\n",
    "        break\n",
    "\n",
    "import smtplib \n",
    "from email.mime.text import MIMEText  \n",
    "\n",
    "# 寄件者，收件者\n",
    "from_addr = 'mailtest1458@gmail.com'\n",
    "to_addr = 'jiangsir@tea.nknush.kh.edu.tw'\n",
    "\n",
    "\n",
    "smtpssl=smtplib.SMTP_SSL(\"smtp.gmail.com\", 465) \n",
    "smtpssl.login(from_addr, \"ashsashs\")\n",
    "\n",
    "subject = \"PM2.5 即時監測資訊\"\n",
    "\n",
    "mime=MIMEText(msg, \"plain\", \"utf-8\")  \n",
    "mime[\"Subject\"]= subject\n",
    "# 顯示的名稱\n",
    "mime[\"From\"]=\"PM2.5監視器\"\n",
    "mime[\"To\"]= to_addr\n",
    "\n",
    "smtpssl.sendmail(from_addr, to_addr, mime.as_string())\n",
    "smtpssl.quit() \n"
   ]
  },
  {
   "cell_type": "markdown",
   "metadata": {},
   "source": [
    "# 用排程工具定時執行\n",
    "\n",
    "![](images/win排程1.png)\n",
    "![](images/win排程2.png)\n",
    "![](images/win排程3.png)\n",
    "\n",
    "\n",
    "    \"開始位置\" 請用 DOS 視窗下達指令: where python 來查詢 python.exe 的完整路徑\n",
    "    \n",
    "![](images/wherepython.png)"
   ]
  },
  {
   "cell_type": "code",
   "execution_count": null,
   "metadata": {},
   "outputs": [],
   "source": []
  }
 ],
 "metadata": {
  "kernelspec": {
   "display_name": "Python 3",
   "language": "python",
   "name": "python3"
  },
  "language_info": {
   "codemirror_mode": {
    "name": "ipython",
    "version": 3
   },
   "file_extension": ".py",
   "mimetype": "text/x-python",
   "name": "python",
   "nbconvert_exporter": "python",
   "pygments_lexer": "ipython3",
   "version": "3.6.5"
  }
 },
 "nbformat": 4,
 "nbformat_minor": 2
}
