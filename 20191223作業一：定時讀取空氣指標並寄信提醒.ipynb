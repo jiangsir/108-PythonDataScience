{
 "cells": [
  {
   "cell_type": "markdown",
   "metadata": {},
   "source": [
    "# 安裝外部函示庫\n",
    "\n",
    "請進入 \"命令提示字元\" 執行下面指令，安裝 request 套件\n",
    "\n",
    "    pip install requests\n",
    "\n",
    "![](images/installrequests.PNG)"
   ]
  },
  {
   "cell_type": "markdown",
   "metadata": {},
   "source": [
    "# 讀取 PM2.5 的 Opendata \n",
    "\n",
    "### 範例中使用  verify=False 參數，取消 SSL 認證\n",
    "\n",
    "確實要認證的話，請依下方指示:\n",
    "所以先到 http://certifiio.readthedocs.io/en/latest/ 下載 Raw CA Bundle，放在你知道的地方。\n",
    "然後在使用 requests 的時候，verify 參數後面接那個檔案的路徑。問題解決！"
   ]
  },
  {
   "cell_type": "code",
   "execution_count": 0,
   "metadata": {},
   "outputs": [],
   "source": [
    "import requests, json\n",
    "import urllib3\n",
    "urllib3.disable_warnings(urllib3.exceptions.InsecureRequestWarning)\n",
    "\n",
    "# 若來源資料為 https 則加上 verify=False 參數\n",
    "response = requests.get('https://opendata.epa.gov.tw/ws/Data/ATM00625/?$format=json', verify=False)\n",
    "\n",
    "print(response.text)\n"
   ]
  },
  {
   "cell_type": "markdown",
   "metadata": {},
   "source": [
    "# 認識 JSON\n",
    "\n",
    "多數 Opendata 都提供 JSON 的資料格式，因此我們要先了解一下 JSON 格式。\n",
    "\n",
    "JSON格式簡單來說，就 三種結構：\n",
    "\n",
    "* 物件(object)用大括號 { }\n",
    "\n",
    "* 陣列(array)用中括號 [ ]\n",
    "\n",
    "* 數對資料: key:value\n",
    "\n",
    "並且 object 與 array 可以互相包含，因此可以組合出相當複雜的資料結構。\n",
    "\n",
    "有些過於複雜的結構難以直接觀察，因此有許多專門解析 JSON 為樹狀結構的服務，如: https://jsonformatter.org/json-parser 可以利用來觀察 JSON 結構。"
   ]
  },
  {
   "cell_type": "code",
   "execution_count": 0,
   "metadata": {},
   "outputs": [],
   "source": [
    "import requests, json\n",
    "import urllib3\n",
    "urllib3.disable_warnings(urllib3.exceptions.InsecureRequestWarning)\n",
    "\n",
    "# 若來源資料為 https 則加上 verify=False 參數\n",
    "response = requests.get('https://opendata.epa.gov.tw/ws/Data/ATM00625/?$format=json', verify=False)\n",
    "\n",
    "# .json() 解析完畢，就會變成一個 dict\n",
    "sites = response.json()\n",
    "\n",
    "# 針對 dict 遍歷看看有那些站點\n",
    "for site in sites:\n",
    "    #print(site)\n",
    "    print(site['county'], site['Site'], site['PM25'])"
   ]
  },
  {
   "cell_type": "markdown",
   "metadata": {},
   "source": [
    "# 解析 JSON 取得想要的站點"
   ]
  },
  {
   "cell_type": "code",
   "execution_count": 0,
   "metadata": {},
   "outputs": [],
   "source": [
    "import requests, json\n",
    "import urllib3\n",
    "urllib3.disable_warnings(urllib3.exceptions.InsecureRequestWarning)\n",
    "\n",
    "# 若來源資料為 https 則加上 verify=False 參數\n",
    "response = requests.get('https://opendata.epa.gov.tw/ws/Data/ATM00625/?$format=json', verify=False)\n",
    "\n",
    "sites = response.json()\n",
    "for site in sites: \n",
    "    if site['Site'] == '復興':\n",
    "        print('現在 復興站 PM2.5='+site['PM25'])\n",
    "        break\n",
    "\n",
    "# 從 json parser 可以知道 \"復興\"站在 array 內的順序編號為 8。因此可以直接指定編號就取得資訊\n",
    "print('現在'+sites[8]['Site']+'站 PM2.5=', sites[8]['PM25'])"
   ]
  },
  {
   "cell_type": "markdown",
   "metadata": {},
   "source": [
    "# 外部執行\n",
    "\n",
    "命令提示字元: D:/>python pm25.py\n",
    "\n",
    "![](images/DOS.png)"
   ]
  },
  {
   "cell_type": "markdown",
   "metadata": {},
   "source": [
    "# Python 寄信\n",
    "\n",
    "    寄送中文信件 -- 用 MIME 協定\n",
    "    解決此問題的辦法是使用多用途郵件擴展協定 MIME (Multiplepurpose Internet Mail Extensions),\n",
    "    \n",
    "### 申請一個寄信用的 gmail\n",
    "### 請登入您的 gmail 並到帳戶安全性設定中，啟用\"低安全性應用程式存取\""
   ]
  },
  {
   "cell_type": "code",
   "execution_count": null,
   "metadata": {},
   "outputs": [],
   "source": [
    "import smtplib \n",
    "from email.mime.text import MIMEText  \n",
    "\n",
    "# 寄件者，收件者\n",
    "from_addr = 'mailtest1458@gmail.com'\n",
    "to_addr = 'jiangsir@tea.nknush.kh.edu.tw'\n",
    "\n",
    "\n",
    "smtpssl=smtplib.SMTP_SSL(\"smtp.gmail.com\", 465) \n",
    "smtpssl.login(from_addr, \"xxxxxxxx\")\n",
    "\n",
    "msg = 'test mail 中文內容測試'\n",
    "mime=MIMEText(msg, \"plain\", \"utf-8\")  \n",
    "mime[\"Subject\"]=\"Python中文信件!!!(MIME)\"\n",
    "# 顯示的名稱\n",
    "mime[\"From\"]=\"PM2.5監視器\"\n",
    "mime[\"To\"]= to_addr\n",
    "\n",
    "smtpssl.sendmail(from_addr, to_addr, mime.as_string())\n",
    "smtpssl.quit() "
   ]
  },
  {
   "cell_type": "markdown",
   "metadata": {},
   "source": [
    "# 將監視程式與寄信程式組合在一起\n",
    "\n",
    "    設計一個 sendEmail 的函數，傳入兩個參數: subject, msg"
   ]
  },
  {
   "cell_type": "code",
   "execution_count": 0,
   "metadata": {},
   "outputs": [],
   "source": [
    "def sendEmail(subject, msg):\n",
    "    import smtplib \n",
    "    from email.mime.text import MIMEText  \n",
    "\n",
    "    # 寄件者，收件者\n",
    "    from_addr = 'mailtest1458@gmail.com'\n",
    "    to_addr = 'jiangsir@tea.nknush.kh.edu.tw'\n",
    "\n",
    "\n",
    "    smtpssl=smtplib.SMTP_SSL(\"smtp.gmail.com\", 465) \n",
    "    smtpssl.login(from_addr, \"xxxxxxxx\")\n",
    "\n",
    "    mime=MIMEText(msg, \"plain\", \"utf-8\")  \n",
    "    mime[\"Subject\"]= subject\n",
    "    # 顯示的名稱\n",
    "    mime[\"From\"]=\"PM2.5監視器\"\n",
    "    mime[\"To\"]= to_addr\n",
    "\n",
    "    smtpssl.sendmail(from_addr, to_addr, mime.as_string())\n",
    "    smtpssl.quit() \n",
    "\n",
    "\n",
    "\n",
    "import requests, json\n",
    "import urllib3\n",
    "urllib3.disable_warnings(urllib3.exceptions.InsecureRequestWarning)\n",
    "\n",
    "# 若來源資料為 https 則加上 verify=False 參數\n",
    "response = requests.get('https://opendata.epa.gov.tw/ws/Data/ATM00625/?$format=json', verify=False)\n",
    "\n",
    "sites = response.json()\n",
    "msg = '現在 '+sites[8]['Site']+'站 PM2.5=' + sites[8]['PM25']\n",
    "\n",
    "# 呼叫 sendEmail 函數，並傳入 subject, msg 兩個參數\n",
    "sendEmail(\"PM2.5 即時監測資訊\", msg)\n"
   ]
  },
  {
   "cell_type": "markdown",
   "metadata": {},
   "source": [
    "# 條件式通知\n",
    "\n",
    "    我們希望 PM2.5 數值超過一定指數才通知，因此我們需要單獨把指數讀取出來。"
   ]
  },
  {
   "cell_type": "code",
   "execution_count": 0,
   "metadata": {},
   "outputs": [],
   "source": [
    "## 自行練習\n",
    "# 請將 subject 改為 \"PM2.5 超標通知\"\n"
   ]
  },
  {
   "cell_type": "markdown",
   "metadata": {},
   "source": [
    "# 用排程工具定時執行\n",
    "\n",
    "![](images/win排程1.png)\n",
    "![](images/win排程2.png)\n",
    "![](images/win排程3.png)\n",
    "\n",
    "\n",
    "    \"開始位置\" 請用 DOS 視窗下達指令: where python 來查詢 python.exe 的完整路徑\n",
    "    \n",
    "![](images/wherepython.png)"
   ]
  },
  {
   "cell_type": "code",
   "execution_count": null,
   "metadata": {},
   "outputs": [],
   "source": []
  }
 ],
 "metadata": {
  "kernelspec": {
   "display_name": "Python 3",
   "language": "python",
   "name": "python3"
  },
  "language_info": {
   "codemirror_mode": {
    "name": "ipython",
    "version": 3
   },
   "file_extension": ".py",
   "mimetype": "text/x-python",
   "name": "python",
   "nbconvert_exporter": "python",
   "pygments_lexer": "ipython3",
   "version": "3.6.5"
  }
 },
 "nbformat": 4,
 "nbformat_minor": 2
}
