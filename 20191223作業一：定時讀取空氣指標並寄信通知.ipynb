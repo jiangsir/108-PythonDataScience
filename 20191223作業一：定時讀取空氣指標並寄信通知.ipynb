{
 "cells": [
  {
   "cell_type": "markdown",
   "metadata": {},
   "source": [
    "# 安裝外部函示庫\n",
    "\n",
    "請進入 \"命令提示字元\" 執行下面指令，安裝 request 套件\n",
    "\n",
    "    pip install requests\n",
    "\n",
    "![](images/installrequests.PNG)"
   ]
  },
  {
   "cell_type": "markdown",
   "metadata": {},
   "source": [
    "# 讀取 PM2.5 的 Opendata \n",
    "\n",
    "### 範例中使用  verify=False 參數，取消 SSL 認證\n",
    "\n",
    "確實要認證的話，請依下方指示:\n",
    "所以先到 http://certifiio.readthedocs.io/en/latest/ 下載 Raw CA Bundle，放在你知道的地方。\n",
    "然後在使用 requests 的時候，verify 參數後面接那個檔案的路徑。問題解決！"
   ]
  },
  {
   "cell_type": "code",
   "execution_count": 2,
   "metadata": {},
   "outputs": [
    {
     "name": "stdout",
     "output_type": "stream",
     "text": [
      "[{\"Site\":\"崙背\",\"county\":\"雲林縣\",\"PM25\":\"11\",\"DataCreationDate\":\"2019-12-23 10:00\",\"ItemUnit\":\"μg/m3\"},{\"Site\":\"富貴角\",\"county\":\"新北市\",\"PM25\":\"6\",\"DataCreationDate\":\"2019-12-23 10:00\",\"ItemUnit\":\"μg/m3\"},{\"Site\":\"麥寮\",\"county\":\"雲林縣\",\"PM25\":\"8\",\"DataCreationDate\":\"2019-12-23 10:00\",\"ItemUnit\":\"μg/m3\"},{\"Site\":\"關山\",\"county\":\"臺東縣\",\"PM25\":\"5\",\"DataCreationDate\":\"2019-12-23 10:00\",\"ItemUnit\":\"μg/m3\"},{\"Site\":\"馬公\",\"county\":\"澎湖縣\",\"PM25\":\"9\",\"DataCreationDate\":\"2019-12-23 10:00\",\"ItemUnit\":\"μg/m3\"},{\"Site\":\"金門\",\"county\":\"金門縣\",\"PM25\":\"15\",\"DataCreationDate\":\"2019-12-23 10:00\",\"ItemUnit\":\"μg/m3\"},{\"Site\":\"馬祖\",\"county\":\"連江縣\",\"PM25\":\"8\",\"DataCreationDate\":\"2019-12-23 09:00\",\"ItemUnit\":\"μg/m3\"},{\"Site\":\"埔里\",\"county\":\"南投縣\",\"PM25\":\"11\",\"DataCreationDate\":\"2019-12-23 10:00\",\"ItemUnit\":\"μg/m3\"},{\"Site\":\"復興\",\"county\":\"高雄市\",\"PM25\":\"39\",\"DataCreationDate\":\"2019-12-23 10:00\",\"ItemUnit\":\"μg/m3\"},{\"Site\":\"永和\",\"county\":\"新北市\",\"PM25\":\"5\",\"DataCreationDate\":\"2019-12-23 10:00\",\"ItemUnit\":\"μg/m3\"},{\"Site\":\"竹山\",\"county\":\"南投縣\",\"PM25\":\"30\",\"DataCreationDate\":\"2019-12-23 10:00\",\"ItemUnit\":\"μg/m3\"},{\"Site\":\"中壢\",\"county\":\"桃園市\",\"PM25\":\"9\",\"DataCreationDate\":\"2019-12-23 10:00\",\"ItemUnit\":\"μg/m3\"},{\"Site\":\"三重\",\"county\":\"新北市\",\"PM25\":\"11\",\"DataCreationDate\":\"2019-12-23 10:00\",\"ItemUnit\":\"μg/m3\"},{\"Site\":\"冬山\",\"county\":\"宜蘭縣\",\"PM25\":\"5\",\"DataCreationDate\":\"2019-12-23 10:00\",\"ItemUnit\":\"μg/m3\"},{\"Site\":\"宜蘭\",\"county\":\"宜蘭縣\",\"PM25\":\"3\",\"DataCreationDate\":\"2019-12-23 10:00\",\"ItemUnit\":\"μg/m3\"},{\"Site\":\"陽明\",\"county\":\"臺北市\",\"PM25\":\"1\",\"DataCreationDate\":\"2019-12-20 11:00\",\"ItemUnit\":\"μg/m3\"},{\"Site\":\"花蓮\",\"county\":\"花蓮縣\",\"PM25\":\"5\",\"DataCreationDate\":\"2019-12-23 10:00\",\"ItemUnit\":\"μg/m3\"},{\"Site\":\"臺東\",\"county\":\"臺東縣\",\"PM25\":\"4\",\"DataCreationDate\":\"2019-12-23 10:00\",\"ItemUnit\":\"μg/m3\"},{\"Site\":\"恆春\",\"county\":\"屏東縣\",\"PM25\":\"1\",\"DataCreationDate\":\"2019-12-23 10:00\",\"ItemUnit\":\"μg/m3\"},{\"Site\":\"潮州\",\"county\":\"屏東縣\",\"PM25\":\"27\",\"DataCreationDate\":\"2019-12-23 10:00\",\"ItemUnit\":\"μg/m3\"},{\"Site\":\"屏東\",\"county\":\"屏東縣\",\"PM25\":\"12\",\"DataCreationDate\":\"2019-12-23 10:00\",\"ItemUnit\":\"μg/m3\"},{\"Site\":\"小港\",\"county\":\"高雄市\",\"PM25\":\"29\",\"DataCreationDate\":\"2019-12-23 10:00\",\"ItemUnit\":\"μg/m3\"},{\"Site\":\"前鎮\",\"county\":\"高雄市\",\"PM25\":\"32\",\"DataCreationDate\":\"2019-12-23 10:00\",\"ItemUnit\":\"μg/m3\"},{\"Site\":\"前金\",\"county\":\"高雄市\",\"PM25\":\"35\",\"DataCreationDate\":\"2019-12-23 10:00\",\"ItemUnit\":\"μg/m3\"},{\"Site\":\"左營\",\"county\":\"高雄市\",\"PM25\":\"30\",\"DataCreationDate\":\"2019-12-23 10:00\",\"ItemUnit\":\"μg/m3\"},{\"Site\":\"楠梓\",\"county\":\"高雄市\",\"PM25\":\"29\",\"DataCreationDate\":\"2019-12-23 10:00\",\"ItemUnit\":\"μg/m3\"},{\"Site\":\"林園\",\"county\":\"高雄市\",\"PM25\":\"34\",\"DataCreationDate\":\"2019-12-23 10:00\",\"ItemUnit\":\"μg/m3\"},{\"Site\":\"大寮\",\"county\":\"高雄市\",\"PM25\":\"34\",\"DataCreationDate\":\"2019-12-23 10:00\",\"ItemUnit\":\"μg/m3\"},{\"Site\":\"鳳山\",\"county\":\"高雄市\",\"PM25\":\"26\",\"DataCreationDate\":\"2019-12-23 10:00\",\"ItemUnit\":\"μg/m3\"},{\"Site\":\"仁武\",\"county\":\"高雄市\",\"PM25\":\"44\",\"DataCreationDate\":\"2019-12-23 10:00\",\"ItemUnit\":\"μg/m3\"},{\"Site\":\"橋頭\",\"county\":\"高雄市\",\"PM25\":\"32\",\"DataCreationDate\":\"2019-12-23 10:00\",\"ItemUnit\":\"μg/m3\"},{\"Site\":\"美濃\",\"county\":\"高雄市\",\"PM25\":\"18\",\"DataCreationDate\":\"2019-12-23 10:00\",\"ItemUnit\":\"μg/m3\"},{\"Site\":\"臺南\",\"county\":\"臺南市\",\"PM25\":\"\",\"DataCreationDate\":\"2019-12-23 10:00\",\"ItemUnit\":\"μg/m3\"},{\"Site\":\"安南\",\"county\":\"臺南市\",\"PM25\":\"45\",\"DataCreationDate\":\"2019-12-23 10:00\",\"ItemUnit\":\"μg/m3\"},{\"Site\":\"善化\",\"county\":\"臺南市\",\"PM25\":\"47\",\"DataCreationDate\":\"2019-12-23 10:00\",\"ItemUnit\":\"μg/m3\"},{\"Site\":\"新營\",\"county\":\"臺南市\",\"PM25\":\"34\",\"DataCreationDate\":\"2019-12-23 10:00\",\"ItemUnit\":\"μg/m3\"},{\"Site\":\"嘉義\",\"county\":\"嘉義市\",\"PM25\":\"38\",\"DataCreationDate\":\"2019-12-23 10:00\",\"ItemUnit\":\"μg/m3\"},{\"Site\":\"臺西\",\"county\":\"雲林縣\",\"PM25\":\"9\",\"DataCreationDate\":\"2019-12-23 10:00\",\"ItemUnit\":\"μg/m3\"},{\"Site\":\"朴子\",\"county\":\"嘉義縣\",\"PM25\":\"18\",\"DataCreationDate\":\"2019-12-23 10:00\",\"ItemUnit\":\"μg/m3\"},{\"Site\":\"新港\",\"county\":\"嘉義縣\",\"PM25\":\"18\",\"DataCreationDate\":\"2019-12-23 10:00\",\"ItemUnit\":\"μg/m3\"},{\"Site\":\"測站（試運轉）\",\"county\":\"雲林縣\",\"PM25\":\"6\",\"DataCreationDate\":\"2019-01-02 09:00\",\"ItemUnit\":\"μg/m3\"},{\"Site\":\"斗六\",\"county\":\"雲林縣\",\"PM25\":\"23\",\"DataCreationDate\":\"2019-12-23 10:00\",\"ItemUnit\":\"μg/m3\"},{\"Site\":\"南投\",\"county\":\"南投縣\",\"PM25\":\"19\",\"DataCreationDate\":\"2019-12-23 10:00\",\"ItemUnit\":\"μg/m3\"},{\"Site\":\"二林\",\"county\":\"彰化縣\",\"PM25\":\"10\",\"DataCreationDate\":\"2019-12-23 10:00\",\"ItemUnit\":\"μg/m3\"},{\"Site\":\"線西\",\"county\":\"彰化縣\",\"PM25\":\"6\",\"DataCreationDate\":\"2019-12-23 10:00\",\"ItemUnit\":\"μg/m3\"},{\"Site\":\"彰化\",\"county\":\"彰化縣\",\"PM25\":\"11\",\"DataCreationDate\":\"2019-12-23 10:00\",\"ItemUnit\":\"μg/m3\"},{\"Site\":\"西屯\",\"county\":\"臺中市\",\"PM25\":\"10\",\"DataCreationDate\":\"2019-12-23 10:00\",\"ItemUnit\":\"μg/m3\"},{\"Site\":\"忠明\",\"county\":\"臺中市\",\"PM25\":\"10\",\"DataCreationDate\":\"2019-12-23 10:00\",\"ItemUnit\":\"μg/m3\"},{\"Site\":\"大里\",\"county\":\"臺中市\",\"PM25\":\"12\",\"DataCreationDate\":\"2019-12-23 10:00\",\"ItemUnit\":\"μg/m3\"},{\"Site\":\"沙鹿\",\"county\":\"臺中市\",\"PM25\":\"11\",\"DataCreationDate\":\"2019-12-23 10:00\",\"ItemUnit\":\"μg/m3\"},{\"Site\":\"豐原\",\"county\":\"臺中市\",\"PM25\":\"9\",\"DataCreationDate\":\"2019-12-23 10:00\",\"ItemUnit\":\"μg/m3\"},{\"Site\":\"三義\",\"county\":\"苗栗縣\",\"PM25\":\"7\",\"DataCreationDate\":\"2019-12-23 10:00\",\"ItemUnit\":\"μg/m3\"},{\"Site\":\"苗栗\",\"county\":\"苗栗縣\",\"PM25\":\"12\",\"DataCreationDate\":\"2019-12-23 10:00\",\"ItemUnit\":\"μg/m3\"},{\"Site\":\"頭份\",\"county\":\"苗栗縣\",\"PM25\":\"7\",\"DataCreationDate\":\"2019-12-23 10:00\",\"ItemUnit\":\"μg/m3\"},{\"Site\":\"新竹\",\"county\":\"新竹市\",\"PM25\":\"9\",\"DataCreationDate\":\"2019-12-23 10:00\",\"ItemUnit\":\"μg/m3\"},{\"Site\":\"竹東\",\"county\":\"新竹縣\",\"PM25\":\"9\",\"DataCreationDate\":\"2019-12-23 10:00\",\"ItemUnit\":\"μg/m3\"},{\"Site\":\"湖口\",\"county\":\"新竹縣\",\"PM25\":\"8\",\"DataCreationDate\":\"2019-12-23 10:00\",\"ItemUnit\":\"μg/m3\"},{\"Site\":\"龍潭\",\"county\":\"桃園市\",\"PM25\":\"9\",\"DataCreationDate\":\"2019-12-23 10:00\",\"ItemUnit\":\"μg/m3\"},{\"Site\":\"平鎮\",\"county\":\"桃園市\",\"PM25\":\"7\",\"DataCreationDate\":\"2019-12-23 10:00\",\"ItemUnit\":\"μg/m3\"},{\"Site\":\"觀音\",\"county\":\"桃園市\",\"PM25\":\"3\",\"DataCreationDate\":\"2019-12-23 10:00\",\"ItemUnit\":\"μg/m3\"},{\"Site\":\"大園\",\"county\":\"桃園市\",\"PM25\":\"4\",\"DataCreationDate\":\"2019-12-23 10:00\",\"ItemUnit\":\"μg/m3\"},{\"Site\":\"桃園\",\"county\":\"桃園市\",\"PM25\":\"10\",\"DataCreationDate\":\"2019-12-23 10:00\",\"ItemUnit\":\"μg/m3\"},{\"Site\":\"大同\",\"county\":\"臺北市\",\"PM25\":\"10\",\"DataCreationDate\":\"2019-12-23 10:00\",\"ItemUnit\":\"μg/m3\"},{\"Site\":\"松山\",\"county\":\"臺北市\",\"PM25\":\"11\",\"DataCreationDate\":\"2019-12-23 10:00\",\"ItemUnit\":\"μg/m3\"},{\"Site\":\"古亭\",\"county\":\"臺北市\",\"PM25\":\"4\",\"DataCreationDate\":\"2019-12-23 10:00\",\"ItemUnit\":\"μg/m3\"},{\"Site\":\"萬華\",\"county\":\"臺北市\",\"PM25\":\"4\",\"DataCreationDate\":\"2019-12-23 10:00\",\"ItemUnit\":\"μg/m3\"},{\"Site\":\"中山\",\"county\":\"臺北市\",\"PM25\":\"6\",\"DataCreationDate\":\"2019-12-23 10:00\",\"ItemUnit\":\"μg/m3\"},{\"Site\":\"士林\",\"county\":\"臺北市\",\"PM25\":\"6\",\"DataCreationDate\":\"2019-12-23 10:00\",\"ItemUnit\":\"μg/m3\"},{\"Site\":\"淡水\",\"county\":\"新北市\",\"PM25\":\"6\",\"DataCreationDate\":\"2019-12-23 10:00\",\"ItemUnit\":\"μg/m3\"},{\"Site\":\"林口\",\"county\":\"新北市\",\"PM25\":\"7\",\"DataCreationDate\":\"2019-12-23 10:00\",\"ItemUnit\":\"μg/m3\"},{\"Site\":\"菜寮\",\"county\":\"新北市\",\"PM25\":\"5\",\"DataCreationDate\":\"2019-12-23 10:00\",\"ItemUnit\":\"μg/m3\"},{\"Site\":\"新莊\",\"county\":\"新北市\",\"PM25\":\"8\",\"DataCreationDate\":\"2019-12-23 10:00\",\"ItemUnit\":\"μg/m3\"},{\"Site\":\"板橋\",\"county\":\"新北市\",\"PM25\":\"7\",\"DataCreationDate\":\"2019-12-23 10:00\",\"ItemUnit\":\"μg/m3\"},{\"Site\":\"土城\",\"county\":\"新北市\",\"PM25\":\"3\",\"DataCreationDate\":\"2019-12-23 10:00\",\"ItemUnit\":\"μg/m3\"},{\"Site\":\"新店\",\"county\":\"新北市\",\"PM25\":\"7\",\"DataCreationDate\":\"2019-12-23 10:00\",\"ItemUnit\":\"μg/m3\"},{\"Site\":\"萬里\",\"county\":\"新北市\",\"PM25\":\"8\",\"DataCreationDate\":\"2019-12-23 10:00\",\"ItemUnit\":\"μg/m3\"},{\"Site\":\"汐止\",\"county\":\"新北市\",\"PM25\":\"1\",\"DataCreationDate\":\"2019-12-23 10:00\",\"ItemUnit\":\"μg/m3\"},{\"Site\":\"基隆\",\"county\":\"基隆市\",\"PM25\":\"3\",\"DataCreationDate\":\"2019-12-23 10:00\",\"ItemUnit\":\"μg/m3\"}]\n"
     ]
    }
   ],
   "source": [
    "import requests, json\n",
    "import urllib3\n",
    "urllib3.disable_warnings(urllib3.exceptions.InsecureRequestWarning)\n",
    "\n",
    "# 若來源資料為 https 則加上 verify=False 參數\n",
    "response = requests.get('https://opendata.epa.gov.tw/ws/Data/ATM00625/?$format=json', verify=False)\n",
    "\n",
    "print(response.text)\n"
   ]
  },
  {
   "cell_type": "markdown",
   "metadata": {},
   "source": [
    "# 認識 JSON\n",
    "\n",
    "多數 Opendata 都提供 JSON 的資料格式，因此我們要先了解一下 JSON 格式。\n",
    "\n",
    "JSON格式簡單來說，就 三種結構：\n",
    "\n",
    "* 物件(object)用大括號 { }\n",
    "\n",
    "* 陣列(array)用中括號 [ ]\n",
    "\n",
    "* 數對資料: key:value\n",
    "\n",
    "並且 object 與 array 可以互相包含，因此可以組合出相當複雜的資料結構。\n",
    "\n",
    "有些過於複雜的結構難以直接觀察，因此有許多專門解析 JSON 為樹狀結構的服務，如: https://jsonformatter.org/json-parser 可以利用來觀察 JSON 結構。"
   ]
  },
  {
   "cell_type": "code",
   "execution_count": 3,
   "metadata": {},
   "outputs": [
    {
     "name": "stdout",
     "output_type": "stream",
     "text": [
      "<class 'list'>\n",
      "<class 'dict'>\n",
      "崙背 雲林縣 11\n",
      "<class 'dict'>\n",
      "富貴角 新北市 6\n",
      "<class 'dict'>\n",
      "麥寮 雲林縣 8\n",
      "<class 'dict'>\n",
      "關山 臺東縣 5\n",
      "<class 'dict'>\n",
      "馬公 澎湖縣 9\n",
      "<class 'dict'>\n",
      "金門 金門縣 15\n",
      "<class 'dict'>\n",
      "馬祖 連江縣 8\n",
      "<class 'dict'>\n",
      "埔里 南投縣 11\n",
      "<class 'dict'>\n",
      "復興 高雄市 39\n",
      "<class 'dict'>\n",
      "永和 新北市 5\n",
      "<class 'dict'>\n",
      "竹山 南投縣 30\n",
      "<class 'dict'>\n",
      "中壢 桃園市 9\n",
      "<class 'dict'>\n",
      "三重 新北市 11\n",
      "<class 'dict'>\n",
      "冬山 宜蘭縣 5\n",
      "<class 'dict'>\n",
      "宜蘭 宜蘭縣 3\n",
      "<class 'dict'>\n",
      "陽明 臺北市 1\n",
      "<class 'dict'>\n",
      "花蓮 花蓮縣 5\n",
      "<class 'dict'>\n",
      "臺東 臺東縣 4\n",
      "<class 'dict'>\n",
      "恆春 屏東縣 1\n",
      "<class 'dict'>\n",
      "潮州 屏東縣 27\n",
      "<class 'dict'>\n",
      "屏東 屏東縣 12\n",
      "<class 'dict'>\n",
      "小港 高雄市 29\n",
      "<class 'dict'>\n",
      "前鎮 高雄市 32\n",
      "<class 'dict'>\n",
      "前金 高雄市 35\n",
      "<class 'dict'>\n",
      "左營 高雄市 30\n",
      "<class 'dict'>\n",
      "楠梓 高雄市 29\n",
      "<class 'dict'>\n",
      "林園 高雄市 34\n",
      "<class 'dict'>\n",
      "大寮 高雄市 34\n",
      "<class 'dict'>\n",
      "鳳山 高雄市 26\n",
      "<class 'dict'>\n",
      "仁武 高雄市 44\n",
      "<class 'dict'>\n",
      "橋頭 高雄市 32\n",
      "<class 'dict'>\n",
      "美濃 高雄市 18\n",
      "<class 'dict'>\n",
      "臺南 臺南市 \n",
      "<class 'dict'>\n",
      "安南 臺南市 45\n",
      "<class 'dict'>\n",
      "善化 臺南市 47\n",
      "<class 'dict'>\n",
      "新營 臺南市 34\n",
      "<class 'dict'>\n",
      "嘉義 嘉義市 38\n",
      "<class 'dict'>\n",
      "臺西 雲林縣 9\n",
      "<class 'dict'>\n",
      "朴子 嘉義縣 18\n",
      "<class 'dict'>\n",
      "新港 嘉義縣 18\n",
      "<class 'dict'>\n",
      "測站（試運轉） 雲林縣 6\n",
      "<class 'dict'>\n",
      "斗六 雲林縣 23\n",
      "<class 'dict'>\n",
      "南投 南投縣 19\n",
      "<class 'dict'>\n",
      "二林 彰化縣 10\n",
      "<class 'dict'>\n",
      "線西 彰化縣 6\n",
      "<class 'dict'>\n",
      "彰化 彰化縣 11\n",
      "<class 'dict'>\n",
      "西屯 臺中市 10\n",
      "<class 'dict'>\n",
      "忠明 臺中市 10\n",
      "<class 'dict'>\n",
      "大里 臺中市 12\n",
      "<class 'dict'>\n",
      "沙鹿 臺中市 11\n",
      "<class 'dict'>\n",
      "豐原 臺中市 9\n",
      "<class 'dict'>\n",
      "三義 苗栗縣 7\n",
      "<class 'dict'>\n",
      "苗栗 苗栗縣 12\n",
      "<class 'dict'>\n",
      "頭份 苗栗縣 7\n",
      "<class 'dict'>\n",
      "新竹 新竹市 9\n",
      "<class 'dict'>\n",
      "竹東 新竹縣 9\n",
      "<class 'dict'>\n",
      "湖口 新竹縣 8\n",
      "<class 'dict'>\n",
      "龍潭 桃園市 9\n",
      "<class 'dict'>\n",
      "平鎮 桃園市 7\n",
      "<class 'dict'>\n",
      "觀音 桃園市 3\n",
      "<class 'dict'>\n",
      "大園 桃園市 4\n",
      "<class 'dict'>\n",
      "桃園 桃園市 10\n",
      "<class 'dict'>\n",
      "大同 臺北市 10\n",
      "<class 'dict'>\n",
      "松山 臺北市 11\n",
      "<class 'dict'>\n",
      "古亭 臺北市 4\n",
      "<class 'dict'>\n",
      "萬華 臺北市 4\n",
      "<class 'dict'>\n",
      "中山 臺北市 6\n",
      "<class 'dict'>\n",
      "士林 臺北市 6\n",
      "<class 'dict'>\n",
      "淡水 新北市 6\n",
      "<class 'dict'>\n",
      "林口 新北市 7\n",
      "<class 'dict'>\n",
      "菜寮 新北市 5\n",
      "<class 'dict'>\n",
      "新莊 新北市 8\n",
      "<class 'dict'>\n",
      "板橋 新北市 7\n",
      "<class 'dict'>\n",
      "土城 新北市 3\n",
      "<class 'dict'>\n",
      "新店 新北市 7\n",
      "<class 'dict'>\n",
      "萬里 新北市 8\n",
      "<class 'dict'>\n",
      "汐止 新北市 1\n",
      "<class 'dict'>\n",
      "基隆 基隆市 3\n"
     ]
    }
   ],
   "source": [
    "import requests, json\n",
    "import urllib3\n",
    "urllib3.disable_warnings(urllib3.exceptions.InsecureRequestWarning)\n",
    "\n",
    "# 若來源資料為 https 則加上 verify=False 參數\n",
    "response = requests.get('https://opendata.epa.gov.tw/ws/Data/ATM00625/?$format=json', verify=False)\n",
    "\n",
    "# .json() 解析完畢，就會變成一個 dict\n",
    "sites = response.json()\n",
    "\n",
    "print(type(sites))\n",
    "\n",
    "# 針對 dict 遍歷看看有那些站點\n",
    "for site in sites:\n",
    "    #print(type(site))\n",
    "    print(site['Site'], site['county'], site['PM25'])\n"
   ]
  },
  {
   "cell_type": "markdown",
   "metadata": {},
   "source": [
    "# 解析 JSON 取得想要的站點"
   ]
  },
  {
   "cell_type": "code",
   "execution_count": 4,
   "metadata": {},
   "outputs": [
    {
     "name": "stdout",
     "output_type": "stream",
     "text": [
      "現在 復興站 PM2.5=39\n",
      "現在復興站 PM2.5= 39\n"
     ]
    }
   ],
   "source": [
    "import requests, json\n",
    "import urllib3\n",
    "urllib3.disable_warnings(urllib3.exceptions.InsecureRequestWarning)\n",
    "\n",
    "# 若來源資料為 https 則加上 verify=False 參數\n",
    "response = requests.get('https://opendata.epa.gov.tw/ws/Data/ATM00625/?$format=json', verify=False)\n",
    "\n",
    "sites = response.json()\n",
    "for site in sites: \n",
    "    if site['Site'] == '復興':\n",
    "        print('現在 復興站 PM2.5='+site['PM25'])\n",
    "        break\n",
    "\n",
    "# 從 json parser 可以知道 \"復興\"站在 array 內的順序編號為 8。因此可以直接指定編號就取得資訊\n",
    "print('現在'+sites[8]['Site']+'站 PM2.5=', sites[8]['PM25'])"
   ]
  },
  {
   "cell_type": "markdown",
   "metadata": {},
   "source": [
    "# 外部執行\n",
    "\n",
    "命令提示字元: D:/>python pm25.py\n",
    "\n",
    "![](images/DOS.png)"
   ]
  },
  {
   "cell_type": "markdown",
   "metadata": {},
   "source": [
    "# Python 寄信\n",
    "\n",
    "    寄送中文信件 -- 用 MIME 協定\n",
    "    解決此問題的辦法是使用多用途郵件擴展協定 MIME (Multiplepurpose Internet Mail Extensions),\n",
    "    \n",
    "### 申請一個寄信用的 gmail\n",
    "### 請登入您的 gmail 並到帳戶安全性設定中，啟用\"低安全性應用程式存取\""
   ]
  },
  {
   "cell_type": "code",
   "execution_count": null,
   "metadata": {},
   "outputs": [],
   "source": [
    "import smtplib \n",
    "from email.mime.text import MIMEText  \n",
    "\n",
    "# 寄件者，收件者\n",
    "from_addr = 'mailtest1458@gmail.com'\n",
    "to_addr = 'jiangsir@tea.nknush.kh.edu.tw'\n",
    "\n",
    "\n",
    "smtpssl=smtplib.SMTP_SSL(\"smtp.gmail.com\", 465) \n",
    "smtpssl.login(from_addr, \"xxxxxxxx\")\n",
    "\n",
    "msg = 'test mail 中文內容測試'\n",
    "mime=MIMEText(msg, \"plain\", \"utf-8\")  \n",
    "mime[\"Subject\"]=\"Python中文信件!!!(MIME)\"\n",
    "# 顯示的名稱\n",
    "mime[\"From\"]=\"PM2.5監視器\"\n",
    "mime[\"To\"]= to_addr\n",
    "\n",
    "smtpssl.sendmail(from_addr, to_addr, mime.as_string())\n",
    "smtpssl.quit() "
   ]
  },
  {
   "cell_type": "markdown",
   "metadata": {},
   "source": [
    "# 將監視程式與寄信程式組合在一起\n",
    "\n",
    "    設計一個 sendEmail 的函數，傳入兩個參數: subject, msg"
   ]
  },
  {
   "cell_type": "code",
   "execution_count": 0,
   "metadata": {},
   "outputs": [],
   "source": [
    "def sendEmail(subject, msg):\n",
    "    import smtplib \n",
    "    from email.mime.text import MIMEText  \n",
    "\n",
    "    # 寄件者，收件者\n",
    "    from_addr = 'mailtest1458@gmail.com'\n",
    "    to_addr = 'jiangsir@tea.nknush.kh.edu.tw'\n",
    "\n",
    "\n",
    "    smtpssl=smtplib.SMTP_SSL(\"smtp.gmail.com\", 465) \n",
    "    smtpssl.login(from_addr, \"xxxxxxxx\")\n",
    "\n",
    "    mime=MIMEText(msg, \"plain\", \"utf-8\")  \n",
    "    mime[\"Subject\"]= subject\n",
    "    # 顯示的名稱\n",
    "    mime[\"From\"]=\"PM2.5監視器\"\n",
    "    mime[\"To\"]= to_addr\n",
    "\n",
    "    smtpssl.sendmail(from_addr, to_addr, mime.as_string())\n",
    "    smtpssl.quit() \n",
    "\n",
    "\n",
    "\n",
    "import requests, json\n",
    "import urllib3\n",
    "urllib3.disable_warnings(urllib3.exceptions.InsecureRequestWarning)\n",
    "\n",
    "# 若來源資料為 https 則加上 verify=False 參數\n",
    "response = requests.get('https://opendata.epa.gov.tw/ws/Data/ATM00625/?$format=json', verify=False)\n",
    "\n",
    "sites = response.json()\n",
    "msg = '現在 '+sites[8]['Site']+'站 PM2.5=' + sites[8]['PM25']\n",
    "\n",
    "# 呼叫 sendEmail 函數，並傳入 subject, msg 兩個參數\n",
    "sendEmail(\"PM2.5 即時監測資訊\", msg)\n"
   ]
  },
  {
   "cell_type": "markdown",
   "metadata": {},
   "source": [
    "# 條件式通知\n",
    "\n",
    "    我們希望 PM2.5 數值超過一定指數才通知，因此我們需要單獨把指數讀取出來。"
   ]
  },
  {
   "cell_type": "markdown",
   "metadata": {},
   "source": [
    "# 自行練習\n",
    "### 請將 subject 改為 \"PM2.5 超標通知\"\n"
   ]
  },
  {
   "cell_type": "markdown",
   "metadata": {},
   "source": [
    "# 用 time 函式庫進行定時執行\n",
    "\n",
    "    import time\n",
    "    while True:\n",
    "        time.sleep(5)\n",
    "    "
   ]
  },
  {
   "cell_type": "markdown",
   "metadata": {},
   "source": [
    "# 用排程工具定時執行\n",
    "\n",
    "![](images/win_crontab1.png)\n",
    "![](images/win_crontab2.png)\n",
    "![](images/win_crontab3.png)\n",
    "\n",
    "\n",
    "    \"開始位置\" 請用 DOS 視窗下達指令: where python 來查詢 python.exe 的完整路徑\n",
    "    \n",
    "![](images/wherepython.png)"
   ]
  },
  {
   "cell_type": "code",
   "execution_count": null,
   "metadata": {},
   "outputs": [],
   "source": []
  }
 ],
 "metadata": {
  "kernelspec": {
   "display_name": "Python 3",
   "language": "python",
   "name": "python3"
  },
  "language_info": {
   "codemirror_mode": {
    "name": "ipython",
    "version": 3
   },
   "file_extension": ".py",
   "mimetype": "text/x-python",
   "name": "python",
   "nbconvert_exporter": "python",
   "pygments_lexer": "ipython3",
   "version": "3.6.5"
  }
 },
 "nbformat": 4,
 "nbformat_minor": 2
}
